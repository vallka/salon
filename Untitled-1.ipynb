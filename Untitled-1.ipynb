{
 "cells": [
  {
   "cell_type": "code",
   "execution_count": null,
   "metadata": {},
   "outputs": [],
   "source": [
    "import requests\n"
   ]
  },
  {
   "cell_type": "code",
   "execution_count": null,
   "metadata": {},
   "outputs": [],
   "source": [
    "r=requests.get('https://api.fresha.com/locations/805208/marketplace-offer?context=booking-flow')\n",
    "r"
   ]
  },
  {
   "cell_type": "code",
   "execution_count": null,
   "metadata": {},
   "outputs": [],
   "source": [
    "data=r.json()['data']"
   ]
  },
  {
   "cell_type": "code",
   "execution_count": null,
   "metadata": {},
   "outputs": [],
   "source": [
    "included=r.json()['included']"
   ]
  },
  {
   "cell_type": "code",
   "execution_count": 26,
   "metadata": {},
   "outputs": [
    {
     "name": "stdout",
     "output_type": "stream",
     "text": [
      "offer-item-categories 2017149 BEAUTY 2\n",
      "offer-item-categories 2017150 HAIR 1\n",
      "offer-item-categories 2017151 NAILS 0\n",
      "offer-item-categories 2390139 EYELASH EXTENSIONS 3\n",
      "offer-item-categories 2390132 WAXING 4\n",
      "offer-item-groups s:9780287 BROW SHAPING -9\n",
      "offer-item-groups s:9780288 DRY HAIRCUT  -15\n",
      "offer-item-groups s:9780289 INFILL / GEL REBALANCE -11\n",
      "offer-item-groups s:9780290 STRENGTHENING MANICURE ( NATURAL NAILS ) -12\n",
      "offer-item-groups s:9780291 CLASSIC GEL MANICURE ( NATURAL NAILS ) -13\n",
      "offer-item-groups s:9780292 CLASSIC MANICURE (WITH REMOVAL) -14\n",
      "offer-item-groups s:9780293 CLASSIC MANICURE (NATURAL NAILS) -15\n",
      "offer-item-groups s:9786610 WASH & BLOW DRY -12\n",
      "offer-item-groups s:9786632 WASH, CUT & BLOW DRY -11\n",
      "offer-item-groups s:9786649 WASH, CUT & BLOW DRY / RE-STYLING  -10\n",
      "offer-item-groups s:9786663 HAIR - UP (no wash) -9\n",
      "offer-item-groups s:9786668 BRIDAL (no wash) -8\n",
      "offer-item-groups s:9786930 HAIR TREATMENT  -7\n",
      "offer-item-groups s:9787447 HAIR HYDRATION -6\n",
      "offer-item-groups s:9788450 FULL HEAD BLEACH  -5\n",
      "offer-item-groups s:9788482 ROOTS BLEACH  -4\n",
      "offer-item-groups s:9788488 ROOTS BLEACH AND TONE  -3\n",
      "offer-item-groups s:9788496 ROOTS TOUCH UP / SOLID COLOUR  -2\n",
      "offer-item-groups s:9788505 FULL HEAD COLOURING ( Solid Colour, Ombre, Highlights, Babylights, Balayage) -1\n",
      "offer-item-groups s:9788532 BROW TINT -8\n",
      "offer-item-groups s:9788550 BROW LAMINATION -6\n",
      "offer-item-groups s:9788559 BROW LAMINATION & WAX -5\n",
      "offer-item-groups s:9788565 BROW LAMINATION & TINT -4\n",
      "offer-item-groups s:9788571 BROW LAMINATION & WAX & TINT -3\n",
      "offer-item-groups s:9788604 EYELASHES TINT -2\n",
      "offer-item-groups s:9788613 EYELASHES LAMINATION & TINT -1\n",
      "offer-item-groups s:9788769 NAIL EXTENSION -10\n",
      "offer-item-groups s:9788779 SCULPTED EXTENSION -7\n",
      "offer-item-groups s:9788792 SCULPTED FRENCH EXTENSION (ART) -6\n",
      "offer-item-groups s:9788801 HYGIENIC PEDICURE -5\n",
      "offer-item-groups s:9788810 COMPLETE GEL PEDICURE -4\n",
      "offer-item-groups s:9788823 FRENCH PEDICURE -3\n",
      "offer-item-groups s:9788845 OPI HAND SPA TREATMENT -2\n",
      "offer-item-groups s:9788862 OPI FOOT SPA TREATMENT -1\n",
      "offer-item-groups s:9920402 DRY HAIRCUT / RESTYLIG  -14\n",
      "offer-item-groups s:10318866 SPECIAL DESIGN -9\n",
      "offer-item-groups s:10318882 FRENCH DESIGN -8\n",
      "offer-item-groups s:10338548 GEL POLISH REMOVAL -16\n",
      "offer-item-groups s:10507248 HAIR CONSULTATION  -16\n",
      "offer-item-groups s:11396755 EYELASH EXTENSIONS -10\n",
      "offer-item-groups s:11476022 Classic Individual -2\n",
      "offer-item-groups s:11476267 Infills -1\n",
      "offer-item-groups s:11476411 Hybrid -3\n",
      "offer-item-groups s:11476469 Full Volume 2D/3D -4\n",
      "offer-item-groups s:11499352 UPPER LIP & CHIN -11\n",
      "offer-item-groups s:11499413 UNDERARM -9\n",
      "offer-item-groups s:11499510 ARM WAXING -8\n",
      "offer-item-groups s:11499895 LEG WAXING -6\n",
      "offer-item-groups s:11500074 BIKINI -4\n",
      "offer-item-groups p:255331 BROW SHAPING & TINT -7\n"
     ]
    },
    {
     "ename": "KeyError",
     "evalue": "'attributes'",
     "output_type": "error",
     "traceback": [
      "\u001b[1;31m---------------------------------------------------------------------------\u001b[0m",
      "\u001b[1;31mKeyError\u001b[0m                                  Traceback (most recent call last)",
      "Cell \u001b[1;32mIn[26], line 2\u001b[0m\n\u001b[0;32m      1\u001b[0m \u001b[39mfor\u001b[39;00m i \u001b[39min\u001b[39;00m included:\n\u001b[1;32m----> 2\u001b[0m     \u001b[39mprint\u001b[39m(i[\u001b[39m'\u001b[39m\u001b[39mtype\u001b[39m\u001b[39m'\u001b[39m], i[\u001b[39m'\u001b[39m\u001b[39mid\u001b[39m\u001b[39m'\u001b[39m], i[\u001b[39m'\u001b[39;49m\u001b[39mattributes\u001b[39;49m\u001b[39m'\u001b[39;49m][\u001b[39m'\u001b[39m\u001b[39mname\u001b[39m\u001b[39m'\u001b[39m],i[\u001b[39m'\u001b[39m\u001b[39mattributes\u001b[39m\u001b[39m'\u001b[39m][\u001b[39m'\u001b[39m\u001b[39mposition\u001b[39m\u001b[39m'\u001b[39m])\n",
      "\u001b[1;31mKeyError\u001b[0m: 'attributes'"
     ]
    }
   ],
   "source": [
    "for i in included:\n",
    "    print(i['type'], i['id'], i['attributes']['name'],i['attributes']['position'])"
   ]
  },
  {
   "cell_type": "code",
   "execution_count": 28,
   "metadata": {},
   "outputs": [
    {
     "name": "stdout",
     "output_type": "stream",
     "text": [
      "sv:11385179 BROW SHAPING\n",
      "sv:11385180 DRY HAIRCUT \n",
      "sv:11385181 INFILL / GEL REBALANCE\n",
      "sv:11385182 STRENGTHENING MANICURE ( NATURAL NAILS )\n",
      "sv:11385183 CLASSIC GEL MANICURE ( NATURAL NAILS )\n",
      "sv:11385184 CLASSIC MANICURE (WITH REMOVAL)\n",
      "sv:11385185 CLASSIC MANICURE (NATURAL NAILS)\n",
      "sv:11392248 WASH & BLOW DRY\n",
      "sv:11392272 WASH, CUT & BLOW DRY\n",
      "sv:11392292 WASH, CUT & BLOW DRY / RE-STYLING \n",
      "sv:11392307 HAIR - UP (no wash)\n",
      "sv:11392312 BRIDAL (no wash)\n",
      "sv:11392606 HAIR TREATMENT \n",
      "sv:11392607 HAIR TREATMENT \n",
      "sv:11393174 HAIR HYDRATION\n",
      "sv:11393175 HAIR HYDRATION\n",
      "sv:11394271 FULL HEAD BLEACH \n",
      "sv:11394272 FULL HEAD BLEACH \n",
      "sv:11394273 FULL HEAD BLEACH \n",
      "sv:11394306 ROOTS BLEACH \n",
      "sv:11394312 ROOTS BLEACH AND TONE \n",
      "sv:11394321 ROOTS TOUCH UP / SOLID COLOUR \n",
      "sv:11394335 FULL HEAD COLOURING ( Solid Colour, Ombre, Highlights, Babylights, Balayage)\n",
      "sv:11394372 BROW TINT\n",
      "sv:11394390 BROW LAMINATION\n",
      "sv:11394399 BROW LAMINATION & WAX\n",
      "sv:11394410 BROW LAMINATION & TINT\n",
      "sv:11394416 BROW LAMINATION & WAX & TINT\n",
      "sv:11394449 EYELASHES TINT\n",
      "sv:11394458 EYELASHES LAMINATION & TINT\n",
      "sv:11394645 NAIL EXTENSION\n",
      "sv:11394646 NAIL EXTENSION\n",
      "sv:11394647 NAIL EXTENSION\n",
      "sv:11394657 SCULPTED EXTENSION\n",
      "sv:11394670 SCULPTED FRENCH EXTENSION (ART)\n",
      "sv:11394679 HYGIENIC PEDICURE\n",
      "sv:11394680 HYGIENIC PEDICURE\n",
      "sv:11394690 COMPLETE GEL PEDICURE\n",
      "sv:11394706 FRENCH PEDICURE\n",
      "sv:11394737 OPI HAND SPA TREATMENT\n",
      "sv:11394754 OPI FOOT SPA TREATMENT\n",
      "sv:11543747 DRY HAIRCUT / RESTYLIG \n",
      "sv:11996631 SPECIAL DESIGN\n",
      "sv:11996653 FRENCH DESIGN\n",
      "sv:12018867 GEL POLISH REMOVAL\n",
      "sv:12209099 HAIR CONSULTATION \n",
      "sv:12701620 INFILL / GEL REBALANCE\n",
      "sv:12701654 HYGIENIC PEDICURE\n",
      "sv:12701714 DRY HAIRCUT \n",
      "sv:13219407 EYELASH EXTENSIONS\n",
      "sv:13309274 Classic Individual\n",
      "sv:13309527 Infills\n",
      "sv:13309676 Hybrid\n",
      "sv:13309739 Full Volume 2D/3D\n",
      "sv:13335870 UPPER LIP & CHIN\n",
      "sv:13335938 UNDERARM\n",
      "sv:13336044 ARM WAXING\n",
      "sv:13336467 LEG WAXING\n",
      "sv:13336682 BIKINI\n",
      "sv:13337130 LEG WAXING\n",
      "sv:13337360 LEG WAXING\n",
      "sv:13337361 LEG WAXING\n",
      "sv:13337362 LEG WAXING\n",
      "sv:13337363 LEG WAXING\n",
      "sv:13337412 ARM WAXING\n",
      "sv:13337515 BIKINI\n",
      "sv:13337516 BIKINI\n",
      "p:255331 BROW SHAPING & TINT\n"
     ]
    }
   ],
   "source": [
    "for d in data:\n",
    "    print(d['id'],d['attributes']['name'])"
   ]
  },
  {
   "cell_type": "code",
   "execution_count": null,
   "metadata": {},
   "outputs": [],
   "source": [
    "for d in data:\n",
    "    print (d['type'])"
   ]
  }
 ],
 "metadata": {
  "kernelspec": {
   "display_name": "salon-7dlNscTC",
   "language": "python",
   "name": "python3"
  },
  "language_info": {
   "codemirror_mode": {
    "name": "ipython",
    "version": 3
   },
   "file_extension": ".py",
   "mimetype": "text/x-python",
   "name": "python",
   "nbconvert_exporter": "python",
   "pygments_lexer": "ipython3",
   "version": "3.8.5"
  },
  "orig_nbformat": 4
 },
 "nbformat": 4,
 "nbformat_minor": 2
}
