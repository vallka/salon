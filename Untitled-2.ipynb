{
 "cells": [
  {
   "cell_type": "code",
   "execution_count": 2,
   "metadata": {},
   "outputs": [
    {
     "name": "stdout",
     "output_type": "stream",
     "text": [
      "Gho\n"
     ]
    }
   ],
   "source": [
    "import string\n",
    "\n",
    "def base62_encode(num):\n",
    "    characters = string.ascii_letters + string.digits  # A-Z, a-z, 0-9\n",
    "    base = len(characters)\n",
    "    short_id = ''\n",
    "    while num > 0:\n",
    "        num, rem = divmod(num, base)\n",
    "        short_id = characters[rem] + short_id\n",
    "    return short_id\n",
    "\n",
    "# Generate a unique short ID based on a unique number (e.g., database ID, timestamp, etc.)\n",
    "unique_number = 123456  # This could be a timestamp or unique counter\n",
    "short_id = base62_encode(unique_number)\n",
    "print(short_id)"
   ]
  },
  {
   "cell_type": "code",
   "execution_count": 3,
   "metadata": {},
   "outputs": [
    {
     "name": "stdout",
     "output_type": "stream",
     "text": [
      "m\n"
     ]
    }
   ],
   "source": [
    "unique_number = 12  \n",
    "short_id = base62_encode(unique_number)\n",
    "print(short_id)"
   ]
  },
  {
   "cell_type": "code",
   "execution_count": 38,
   "metadata": {},
   "outputs": [
    {
     "name": "stdout",
     "output_type": "stream",
     "text": [
      "LFLV\n"
     ]
    }
   ],
   "source": [
    "def encode_id_to_base62(id_number):\n",
    "    id_number += 1000000\n",
    "    # Base62 encoding for converting numbers to short string\n",
    "    alphabet = string.digits + string.ascii_uppercase\n",
    "    base62 = []\n",
    "    base = len(alphabet)\n",
    "    while id_number:\n",
    "        base62.append(alphabet[id_number % base])\n",
    "        id_number //= base\n",
    "    return ''.join(reversed(base62))\n",
    "\n",
    "# Example usage\n",
    "db_id = 3\n",
    "short_id = encode_id_to_base62(db_id)\n",
    "print(short_id)  # Output: Base62 encoded version of 123456\n"
   ]
  },
  {
   "cell_type": "code",
   "execution_count": 10,
   "metadata": {},
   "outputs": [
    {
     "name": "stdout",
     "output_type": "stream",
     "text": [
      "b'\\xe8\\xb1\\xe3\\xe30\\x88\\x8dU\\xd7\\x89\\xab\\xe2\\x87\\x96\\xaf\\x98-\\x17\\x08Y'\n",
      "6LHj4zCIjVXXiavih5avmC0XCFk=\n",
      "6LHj4zCI\n"
     ]
    }
   ],
   "source": [
    "import hashlib\n",
    "import base64\n",
    "\n",
    "def generate_unique_short_id(input_string):\n",
    "    # Create a hash of the input string\n",
    "    hash_object = hashlib.sha1(input_string.encode('utf-8'))\n",
    "    hash_bytes = hash_object.digest()\n",
    "    print(hash_bytes)\n",
    "    # Encode the hash to Base64 and make it URL-safe\n",
    "    short_id = base64. .urlsafe_b64encode(hash_bytes).decode('utf-8')  # Limit to 8 chars\n",
    "    print (short_id)\n",
    "    return short_id[:8]\n",
    "\n",
    "# Example usage\n",
    "input_string = \"1123 45678\"\n",
    "short_id = generate_unique_short_id(input_string)\n",
    "print(short_id)  # Output: A unique short ID based on the input string\n"
   ]
  },
  {
   "cell_type": "code",
   "execution_count": 8,
   "metadata": {},
   "outputs": [
    {
     "data": {
      "text/plain": [
       "datetime.datetime(2024, 11, 30, 2, 31)"
      ]
     },
     "execution_count": 8,
     "metadata": {},
     "output_type": "execute_result"
    }
   ],
   "source": [
    "from django.utils import timezone,dateparse\n",
    "\n",
    "dateparse.parse_datetime('2024-11-30 2:31')"
   ]
  },
  {
   "cell_type": "code",
   "execution_count": 17,
   "metadata": {},
   "outputs": [
    {
     "name": "stdout",
     "output_type": "stream",
     "text": [
      "time data '2024-11-30 2:31 pm' does not match format '%d %b %Y, %I:%M%p'\n"
     ]
    },
    {
     "data": {
      "text/plain": [
       "datetime.datetime(2024, 11, 30, 14, 31)"
      ]
     },
     "execution_count": 17,
     "metadata": {},
     "output_type": "execute_result"
    }
   ],
   "source": [
    "from datetime import datetime\n",
    "from django.utils import timezone,dateparse\n",
    "\n",
    "datetime_str = '2024-11-30 2:31 pm'\n",
    "naive_datetime = None\n",
    "try:\n",
    "    naive_datetime = datetime.strptime(datetime_str, \"%d %b %Y, %I:%M%p\")\n",
    "except Exception as e:\n",
    "    print (e)\n",
    "    naive_datetime = datetime.strptime(datetime_str, \"%Y-%m-%d %I:%M %p\")\n",
    "\n",
    "aware_datetime = timezone.make_aware(naive_datetime, timezone.get_current_timezone())\n",
    "\n",
    "naive_datetime"
   ]
  },
  {
   "cell_type": "code",
   "execution_count": 15,
   "metadata": {},
   "outputs": [
    {
     "data": {
      "text/plain": [
       "datetime.date(2024, 11, 30)"
      ]
     },
     "execution_count": 15,
     "metadata": {},
     "output_type": "execute_result"
    }
   ],
   "source": [
    "naive_datetime.date()\n",
    "\n"
   ]
  },
  {
   "cell_type": "code",
   "execution_count": 18,
   "metadata": {},
   "outputs": [
    {
     "data": {
      "text/plain": [
       "datetime.date(2024, 11, 30)"
      ]
     },
     "execution_count": 18,
     "metadata": {},
     "output_type": "execute_result"
    }
   ],
   "source": [
    "aware_datetime.date()"
   ]
  }
 ],
 "metadata": {
  "kernelspec": {
   "display_name": "salon-7dlNscTC",
   "language": "python",
   "name": "python3"
  },
  "language_info": {
   "codemirror_mode": {
    "name": "ipython",
    "version": 3
   },
   "file_extension": ".py",
   "mimetype": "text/x-python",
   "name": "python",
   "nbconvert_exporter": "python",
   "pygments_lexer": "ipython3",
   "version": "3.8.5"
  },
  "orig_nbformat": 4
 },
 "nbformat": 4,
 "nbformat_minor": 2
}
